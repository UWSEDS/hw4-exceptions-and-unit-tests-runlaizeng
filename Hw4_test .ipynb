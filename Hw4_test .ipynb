{
 "cells": [
  {
   "cell_type": "code",
   "execution_count": 51,
   "metadata": {
    "collapsed": false
   },
   "outputs": [],
   "source": [
    "import io \n",
    "from unittest import *\n",
    "import unittest \n",
    "from IPython.nbformat import  current\n"
   ]
  },
  {
   "cell_type": "code",
   "execution_count": 52,
   "metadata": {
    "collapsed": true
   },
   "outputs": [],
   "source": [
    "def acess_notebook(nbfile):\n",
    "    with io.open(nbfile) as f: \n",
    "        nb=current.read(f,'json')\n",
    "    \n",
    "    ip=get_ipython()\n",
    "    \n",
    "    for cell in nb.worksheets[0].cells:\n",
    "        if cell.cell_type!='code':\n",
    "            continue\n",
    "        ip.run_cell(cell.input)"
   ]
  },
  {
   "cell_type": "code",
   "execution_count": 53,
   "metadata": {
    "collapsed": false
   },
   "outputs": [
    {
     "name": "stdout",
     "output_type": "stream",
     "text": [
      "File Already exists\n"
     ]
    },
    {
     "data": {
      "text/plain": [
       "True"
      ]
     },
     "execution_count": 53,
     "metadata": {},
     "output_type": "execute_result"
    },
    {
     "name": "stdout",
     "output_type": "stream",
     "text": [
      "The URL is not valid\n",
      "File Removed!\n"
     ]
    },
    {
     "data": {
      "text/plain": [
       "True"
      ]
     },
     "execution_count": 53,
     "metadata": {},
     "output_type": "execute_result"
    },
    {
     "name": "stderr",
     "output_type": "stream",
     "text": [
      "/Users/runlaizeng/miniconda3/lib/python3.6/site-packages/urllib3/connectionpool.py:852: InsecureRequestWarning: Unverified HTTPS request is being made. Adding certificate verification is strongly advised. See: https://urllib3.readthedocs.io/en/latest/advanced-usage.html#ssl-warnings\n",
      "  InsecureRequestWarning)\n"
     ]
    },
    {
     "data": {
      "text/plain": [
       "200"
      ]
     },
     "execution_count": 53,
     "metadata": {},
     "output_type": "execute_result"
    }
   ],
   "source": [
    "acess_notebook(\"Hw4_function .ipynb\")"
   ]
  },
  {
   "cell_type": "markdown",
   "metadata": {},
   "source": [
    "## Unit Test  For Get_data"
   ]
  },
  {
   "cell_type": "code",
   "execution_count": 54,
   "metadata": {
    "collapsed": false,
    "deletable": true,
    "editable": true
   },
   "outputs": [],
   "source": [
    "class TestForGetData(TestCase):\n",
    "    \n",
    "    #Test for: the file exist in locaal. \n",
    "    def test_get_data_1(self):\n",
    "        url='http://earthquake.usgs.gov/earthquakes/feed/v1.0/summary/all_week.csv'\n",
    "        test1=get_data(url)\n",
    "        self.assertTrue(test1)\n",
    "    \n",
    "    #Test for: the url is not valid \n",
    "    def test_get_data_2(self): \n",
    "        url2='sshttps://da.dsss'\n",
    "        test2=get_data(url2)\n",
    "        self.assertEqual(None,test2)\n",
    "    \n",
    "    #Test for: file is not exist and should download\n",
    "    def test_get_data_3(self):\n",
    "        url3='http://earthquake.usgs.gov/earthquakes/feed/v1.0/summary/all_week.csv'\n",
    "        test31=remove_data(url3)\n",
    "        test32=get_data(url3)\n",
    "        self.assertEqual(test32,200)"
   ]
  },
  {
   "cell_type": "code",
   "execution_count": 55,
   "metadata": {
    "collapsed": false
   },
   "outputs": [
    {
     "name": "stderr",
     "output_type": "stream",
     "text": [
      ".."
     ]
    },
    {
     "name": "stdout",
     "output_type": "stream",
     "text": [
      "File Already exists\n",
      "The URL is not valid\n",
      "File Removed!\n"
     ]
    },
    {
     "name": "stderr",
     "output_type": "stream",
     "text": [
      "/Users/runlaizeng/miniconda3/lib/python3.6/site-packages/urllib3/connectionpool.py:852: InsecureRequestWarning: Unverified HTTPS request is being made. Adding certificate verification is strongly advised. See: https://urllib3.readthedocs.io/en/latest/advanced-usage.html#ssl-warnings\n",
      "  InsecureRequestWarning)\n",
      ".\n",
      "----------------------------------------------------------------------\n",
      "Ran 3 tests in 0.208s\n",
      "\n",
      "OK\n"
     ]
    },
    {
     "data": {
      "text/plain": [
       "<unittest.runner.TextTestResult run=3 errors=0 failures=0>"
      ]
     },
     "execution_count": 55,
     "metadata": {},
     "output_type": "execute_result"
    }
   ],
   "source": [
    "testForGetData=TestForGetData()\n",
    "suite = unittest.TestLoader().loadTestsFromModule(testForGetData)\n",
    "unittest.TextTestRunner().run(suite)"
   ]
  },
  {
   "cell_type": "markdown",
   "metadata": {},
   "source": [
    "## Unit test for remove_data"
   ]
  },
  {
   "cell_type": "code",
   "execution_count": 56,
   "metadata": {
    "collapsed": true
   },
   "outputs": [],
   "source": [
    "class TestRemoveData(TestCase):\n",
    "    # Test for : remove file which is in path, we first load the data and remove. Should return true \n",
    "    def test_remove_data1(self):\n",
    "        remove_test11=get_data('http://earthquake.usgs.gov/earthquakes/feed/v1.0/summary/all_week.csv')\n",
    "        remove_test12=remove_data('http://earthquake.usgs.gov/earthquakes/feed/v1.0/summary/all_week.csv')\n",
    "        self.assertTrue(remove_test12)\n",
    "    \n",
    "    # Test for : remove file whihc not exitst in path, should return False \n",
    "    def test_remove_data2(self):\n",
    "        remove_test2=remove_data('http://earthquake.usgs.gov/earthquakes/feed/v1.0/summary/all_week.csv')\n",
    "        self.assertFalse(remove_test2)"
   ]
  },
  {
   "cell_type": "code",
   "execution_count": 58,
   "metadata": {
    "collapsed": false
   },
   "outputs": [
    {
     "name": "stderr",
     "output_type": "stream",
     "text": [
      ".."
     ]
    },
    {
     "name": "stdout",
     "output_type": "stream",
     "text": [
      "File Already exists\n",
      "File Removed!\n",
      "No such file\n"
     ]
    },
    {
     "name": "stderr",
     "output_type": "stream",
     "text": [
      "\n",
      "----------------------------------------------------------------------\n",
      "Ran 2 tests in 0.003s\n",
      "\n",
      "OK\n"
     ]
    },
    {
     "data": {
      "text/plain": [
       "<unittest.runner.TextTestResult run=2 errors=0 failures=0>"
      ]
     },
     "execution_count": 58,
     "metadata": {},
     "output_type": "execute_result"
    }
   ],
   "source": [
    "testRemoveData = TestRemoveData()\n",
    "suite_remove = unittest.TestLoader().loadTestsFromModule(testRemoveData)\n",
    "unittest.TextTestRunner().run(suite_remove)"
   ]
  },
  {
   "cell_type": "code",
   "execution_count": null,
   "metadata": {
    "collapsed": true
   },
   "outputs": [],
   "source": []
  }
 ],
 "metadata": {
  "kernelspec": {
   "display_name": "Python 3",
   "language": "python",
   "name": "python3"
  },
  "language_info": {
   "codemirror_mode": {
    "name": "ipython",
    "version": 3
   },
   "file_extension": ".py",
   "mimetype": "text/x-python",
   "name": "python",
   "nbconvert_exporter": "python",
   "pygments_lexer": "ipython3",
   "version": "3.6.0"
  }
 },
 "nbformat": 4,
 "nbformat_minor": 2
}
